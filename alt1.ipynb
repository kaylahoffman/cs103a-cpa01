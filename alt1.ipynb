{
 "cells": [
  {
   "cell_type": "markdown",
   "id": "78ac11d1-43a0-43dc-97a4-115a0c6a4a2d",
   "metadata": {},
   "source": [
    "# CPAO1 \n",
    "CS 103A, Spring 2022\n",
    "\n",
    "Kayla Hoffman\n",
    "\n",
    "This data can be found at https://www.kaggle.com/nguyenngocphung/10000-amazon-products-dataset\n",
    "\n",
    "To download this set, first create an account then click the Download button near the upper right of the page. It will download as a zip folder. Next, extract the contents, and they are now ready to use as a csv file.\n",
    "\n",
    "This data set contains over 10,000 different Amazon products. The columns include information like the product name, manufacturer, price, reviews, questions, category of good, and description.\n",
    "\n",
    "Analysis: Using Pandas, I want to learn more about how the price/reviews and the price/number of questions are correlated.\n"
   ]
  },
  {
   "cell_type": "code",
   "execution_count": 1,
   "id": "70df716b-984e-4ce4-9cc0-0b9cbaa725bb",
   "metadata": {},
   "outputs": [],
   "source": [
    "import numpy as np\n",
    "import pandas as pd\n",
    "import regex as re\n",
    "from matplotlib import pyplot as plt"
   ]
  },
  {
   "cell_type": "code",
   "execution_count": 6,
   "id": "1fc2f634-1a96-4374-a18b-55051d6c1c9c",
   "metadata": {
    "tags": []
   },
   "outputs": [],
   "source": [
    "df = pd.read_csv('archive/Amazon_Products.csv', usecols = ['uniq_id', 'product_name', 'manufacturer', 'price',\n",
    "       'number_available_in_stock', 'number_of_reviews',\n",
    "       'number_of_answered_questions', 'average_review_rating',\n",
    "       'amazon_category_and_sub_category', 'description'], low_memory = False)\n",
    "#df"
   ]
  },
  {
   "cell_type": "code",
   "execution_count": 3,
   "id": "a1e08adc-9855-4bfb-887f-59c84c9f4a5e",
   "metadata": {},
   "outputs": [
    {
     "data": {
      "text/plain": [
       "uniq_id                             object\n",
       "product_name                        object\n",
       "manufacturer                        object\n",
       "price                               object\n",
       "number_available_in_stock           object\n",
       "number_of_reviews                   object\n",
       "number_of_answered_questions        object\n",
       "average_review_rating               object\n",
       "amazon_category_and_sub_category    object\n",
       "description                         object\n",
       "dtype: object"
      ]
     },
     "execution_count": 3,
     "metadata": {},
     "output_type": "execute_result"
    }
   ],
   "source": [
    "df.dtypes"
   ]
  },
  {
   "cell_type": "code",
   "execution_count": 7,
   "id": "a88f8838-7982-497f-a2d4-d4746f850d63",
   "metadata": {},
   "outputs": [],
   "source": [
    "df['price'] = df['price'].str.replace('£', '')\n",
    "\n",
    "df = df.drop(df.index[3355])\n",
    "df = df.drop(df.index[3335])\n",
    "df = df.drop(df.index[3325])\n",
    "df = df.drop(df.index[3300])\n",
    "df = df.drop(df.index[3272])\n",
    "df = df.drop(df.index[3267])\n",
    "df = df.drop(df.index[3262])\n",
    "df = df.drop(df.index[3259])\n",
    "df = df.drop(df.index[3239])\n",
    "df = df.drop(df.index[3197])\n",
    "df = df.drop(df.index[3182])\n",
    "df = df.drop(df.index[[2005, 2004, 2003, 2002]])\n",
    "df = df.drop(df.index[1998])\n",
    "df = df.drop(df.index[1994])\n",
    "df = df.drop(df.index[1837])\n",
    "df = df.drop(df.index[1814])\n",
    "df = df.drop(df.index[1808])\n",
    "df = df.drop(df.index[1801])\n",
    "df = df.drop(df.index[1655])\n"
   ]
  },
  {
   "cell_type": "code",
   "execution_count": 8,
   "id": "73808708-27ac-4a8b-bae7-df1dea462f40",
   "metadata": {},
   "outputs": [
    {
     "ename": "ValueError",
     "evalue": "Unable to parse string \"269.00 - 699.99\" at position 1655",
     "output_type": "error",
     "traceback": [
      "\u001b[1;31m---------------------------------------------------------------------------\u001b[0m",
      "\u001b[1;31mValueError\u001b[0m                                Traceback (most recent call last)",
      "\u001b[1;32m~\\anaconda3\\lib\\site-packages\\pandas\\_libs\\lib.pyx\u001b[0m in \u001b[0;36mpandas._libs.lib.maybe_convert_numeric\u001b[1;34m()\u001b[0m\n",
      "\u001b[1;31mValueError\u001b[0m: Unable to parse string \"269.00 - 699.99\"",
      "\nDuring handling of the above exception, another exception occurred:\n",
      "\u001b[1;31mValueError\u001b[0m                                Traceback (most recent call last)",
      "\u001b[1;32m~\\AppData\\Local\\Temp/ipykernel_2704/3571520936.py\u001b[0m in \u001b[0;36m<module>\u001b[1;34m\u001b[0m\n\u001b[0;32m      3\u001b[0m \u001b[1;31m#df['price'] = df['price'].str.replace('^-\\d*\\.\\d*', '')\u001b[0m\u001b[1;33m\u001b[0m\u001b[1;33m\u001b[0m\u001b[1;33m\u001b[0m\u001b[0m\n\u001b[0;32m      4\u001b[0m \u001b[1;33m\u001b[0m\u001b[0m\n\u001b[1;32m----> 5\u001b[1;33m \u001b[0mdf\u001b[0m\u001b[1;33m[\u001b[0m\u001b[1;34m'price'\u001b[0m\u001b[1;33m]\u001b[0m \u001b[1;33m=\u001b[0m \u001b[0mpd\u001b[0m\u001b[1;33m.\u001b[0m\u001b[0mto_numeric\u001b[0m\u001b[1;33m(\u001b[0m\u001b[0mdf\u001b[0m\u001b[1;33m[\u001b[0m\u001b[1;34m'price'\u001b[0m\u001b[1;33m]\u001b[0m\u001b[1;33m)\u001b[0m\u001b[1;33m\u001b[0m\u001b[1;33m\u001b[0m\u001b[0m\n\u001b[0m",
      "\u001b[1;32m~\\anaconda3\\lib\\site-packages\\pandas\\core\\tools\\numeric.py\u001b[0m in \u001b[0;36mto_numeric\u001b[1;34m(arg, errors, downcast)\u001b[0m\n\u001b[0;32m    181\u001b[0m         \u001b[0mcoerce_numeric\u001b[0m \u001b[1;33m=\u001b[0m \u001b[0merrors\u001b[0m \u001b[1;32mnot\u001b[0m \u001b[1;32min\u001b[0m \u001b[1;33m(\u001b[0m\u001b[1;34m\"ignore\"\u001b[0m\u001b[1;33m,\u001b[0m \u001b[1;34m\"raise\"\u001b[0m\u001b[1;33m)\u001b[0m\u001b[1;33m\u001b[0m\u001b[1;33m\u001b[0m\u001b[0m\n\u001b[0;32m    182\u001b[0m         \u001b[1;32mtry\u001b[0m\u001b[1;33m:\u001b[0m\u001b[1;33m\u001b[0m\u001b[1;33m\u001b[0m\u001b[0m\n\u001b[1;32m--> 183\u001b[1;33m             values, _ = lib.maybe_convert_numeric(\n\u001b[0m\u001b[0;32m    184\u001b[0m                 \u001b[0mvalues\u001b[0m\u001b[1;33m,\u001b[0m \u001b[0mset\u001b[0m\u001b[1;33m(\u001b[0m\u001b[1;33m)\u001b[0m\u001b[1;33m,\u001b[0m \u001b[0mcoerce_numeric\u001b[0m\u001b[1;33m=\u001b[0m\u001b[0mcoerce_numeric\u001b[0m\u001b[1;33m\u001b[0m\u001b[1;33m\u001b[0m\u001b[0m\n\u001b[0;32m    185\u001b[0m             )\n",
      "\u001b[1;32m~\\anaconda3\\lib\\site-packages\\pandas\\_libs\\lib.pyx\u001b[0m in \u001b[0;36mpandas._libs.lib.maybe_convert_numeric\u001b[1;34m()\u001b[0m\n",
      "\u001b[1;31mValueError\u001b[0m: Unable to parse string \"269.00 - 699.99\" at position 1655"
     ]
    }
   ],
   "source": [
    "#df['price'] = df['price'].str.replace('£', '')\n",
    "# Delete row that gives price as a range\n",
    "#df['price'] = df['price'].str.replace('^-\\d*\\.\\d*', '')\n",
    "\n",
    "df['price'] = pd.to_numeric(df['price'])"
   ]
  },
  {
   "cell_type": "code",
   "execution_count": null,
   "id": "54947636-eb59-440a-b449-5aa38e846900",
   "metadata": {},
   "outputs": [],
   "source": [
    "def cleanPrice(str1):\n",
    "    return float(str1.strip('£'))\n",
    "\n",
    "df['price'] = [cleanPrice(df['price']) for d in df]\n",
    "\n",
    "\n",
    "#[toFloat(d['GDP - per capita']) for d in data]\n",
    "#[toPrice(df['price']) for d in df]\n",
    "#apply(lambda x: float(x.strip('£')))"
   ]
  },
  {
   "cell_type": "code",
   "execution_count": null,
   "id": "46e8de4c-d9d8-4026-b8cb-6b00447e696e",
   "metadata": {},
   "outputs": [],
   "source": [
    "df.dtypes"
   ]
  },
  {
   "cell_type": "code",
   "execution_count": null,
   "id": "efddbce5-03a6-4559-9b69-e5ded15061dd",
   "metadata": {},
   "outputs": [],
   "source": [
    "def toFloat(str1):\n",
    "    if str1=='':\n",
    "        return 0\n",
    "    else:\n",
    "        return float(str1)\n",
    "    \n",
    "def toInt(str1):\n",
    "    if str1=='':\n",
    "        return 0\n",
    "    else:\n",
    "        return int(str1)\n",
    "    \n",
    "def toPrice(str1):\n",
    "    str1 = str1[2:]\n",
    "    return float(str1)\n",
    "\n",
    "def toRating(str1):\n",
    "    str1 = str1[:3]\n",
    "    return float(str1)\n",
    "\n",
    "df['price'] = [toPrice(df['price']) for d in df]\n",
    "df['average_review_rating'] = [toRating(df['average_review_rating']) for d in df]\n",
    "df['number_of_answered_questions'] = pd.to_numeric(df['number_of_answered_questions'])\n",
    "\n",
    "df.dtypes"
   ]
  },
  {
   "cell_type": "markdown",
   "id": "55563007-15f6-44f3-a2dc-c8b52581a384",
   "metadata": {},
   "source": [
    "Note that price is in euros and reviews are out of 5 stars"
   ]
  },
  {
   "cell_type": "code",
   "execution_count": null,
   "id": "38bfdbe3-069f-499a-9982-586573056110",
   "metadata": {},
   "outputs": [],
   "source": [
    "frlist = [(toFloat(d['Total fertility rate(children born/woman)']),d['Country'])\n",
    "            for d in data]\n",
    "frlist = sorted(frlist,reverse=True)\n",
    "frlist"
   ]
  }
 ],
 "metadata": {
  "kernelspec": {
   "display_name": "Python 3 (ipykernel)",
   "language": "python",
   "name": "python3"
  },
  "language_info": {
   "codemirror_mode": {
    "name": "ipython",
    "version": 3
   },
   "file_extension": ".py",
   "mimetype": "text/x-python",
   "name": "python",
   "nbconvert_exporter": "python",
   "pygments_lexer": "ipython3",
   "version": "3.8.8"
  }
 },
 "nbformat": 4,
 "nbformat_minor": 5
}
