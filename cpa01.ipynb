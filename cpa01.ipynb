{
 "cells": [
  {
   "cell_type": "markdown",
   "id": "e4de4eb8-d8db-4aa6-82ed-33bb0b80cdf8",
   "metadata": {
    "tags": []
   },
   "source": [
    "# CPAO1 \n",
    "\n",
    "# Kayla Hoffman\n",
    "CS 103A, Spring 2022\n",
    "\n",
    "This data can be found at https://github.com/tjhickey724/cs103a/tree/L17/data\n",
    "\n",
    "To download this set, clone the Github repository and checkout brach L17.\n",
    "\n",
    "Go to the data folder then the classes folder and look at courses.csv\n",
    "\n",
    "This data set contains over 35,000 rows dating from 2004 to 2021 and has\n",
    "\n",
    "columns like subject, course number, term, intrsuctor, title, and enrollment numbers.\n",
    "\n",
    "Analysis: Using Pandas, I want to learn more about the enrollment number of a course\n",
    "and the course number are correlated. I will also investigate the instructors who have\n",
    "taught the most students since I have been a student at Brandeis. This will also give insight to which subjects have instructors who consistent teach the largest classes.\n"
   ]
  },
  {
   "cell_type": "code",
   "execution_count": null,
   "id": "f5f77205-33b5-45a4-b5d1-c07da9197f57",
   "metadata": {},
   "outputs": [],
   "source": [
    "#needed imports\n",
    "import numpy as np\n",
    "import pandas as pd\n",
    "from matplotlib import pyplot as plt"
   ]
  },
  {
   "cell_type": "code",
   "execution_count": null,
   "id": "517268cf-53fe-4877-9744-94d60c06de8d",
   "metadata": {},
   "outputs": [],
   "source": [
    "#load the data\n",
    "course_df = pd.read_csv('courses.csv')\n",
    "course_df"
   ]
  },
  {
   "cell_type": "code",
   "execution_count": null,
   "id": "8837d389-5135-4373-946c-31bb7441fae5",
   "metadata": {},
   "outputs": [],
   "source": [
    "#decribe the data\n",
    "course_df.describe"
   ]
  },
  {
   "cell_type": "code",
   "execution_count": null,
   "id": "859a7a52-f92f-49ca-9812-470467f505ce",
   "metadata": {},
   "outputs": [],
   "source": [
    "course_df.columns"
   ]
  },
  {
   "cell_type": "code",
   "execution_count": null,
   "id": "97c869a3-4dab-4bf2-bb8c-e547cffa7ea2",
   "metadata": {},
   "outputs": [],
   "source": [
    "course_df.values\n",
    "#course_df.keys"
   ]
  },
  {
   "cell_type": "markdown",
   "id": "49e8dfa6-7793-47df-861c-eb8d0c5859d1",
   "metadata": {},
   "source": [
    "Simple Plot of Course Number and Enrollment"
   ]
  },
  {
   "cell_type": "code",
   "execution_count": null,
   "id": "f8beb14c-07e0-43b1-aea6-ae990e55020f",
   "metadata": {},
   "outputs": [],
   "source": [
    "#Simple plot of course numbers and enrollments\n",
    "#using entire timeperiod\n",
    "plt.scatter(course_df[\"num\"], course_df[\"enr\"])\n",
    "\n",
    "plt.xlabel(\"Course Number\", color='darkred')\n",
    "plt.ylabel(\"Number of Students Enrolled\", color='darkred')\n",
    "\n",
    "plt.title(\"Course Number v. Enrollment\", size=20)\n",
    "plt.show()"
   ]
  },
  {
   "cell_type": "markdown",
   "id": "b19bf88e-e156-4a97-978b-2c1f3064ad5f",
   "metadata": {},
   "source": [
    "Simple Plot of Course Number and Enrollment without Outliers"
   ]
  },
  {
   "cell_type": "code",
   "execution_count": null,
   "id": "6d71a49a-fcc9-4aee-8afd-bfab99b6a3fb",
   "metadata": {},
   "outputs": [],
   "source": [
    "#Simple plot with extreme values removed\n",
    "plt.scatter(course_df[\"num\"], course_df[\"enr\"])\n",
    "plt.xlabel(\"Course Number\", color='darkred')\n",
    "plt.ylabel(\"Number of Students Enrolled\", color='darkred')\n",
    "plt.title(\"Course Number v. Enrollment\", size=20)\n",
    "\n",
    "plt.xlim([0, 625])\n",
    "plt.ylim([0, 325])\n",
    "\n",
    "plt.show()\n",
    "#trend that the higher the course number, the lower the number of enrolled students"
   ]
  },
  {
   "cell_type": "code",
   "execution_count": null,
   "id": "089bde88-cac3-4bfa-a828-02feade7a1b2",
   "metadata": {},
   "outputs": [],
   "source": [
    "#restrict time interval to since I've been a student here\n",
    "#Fall 2018 - Summer 2021\n",
    "course_df2 = course_df[course_df['code']>=1183]\n",
    "course_df2"
   ]
  },
  {
   "cell_type": "code",
   "execution_count": null,
   "id": "92c79808-60bc-4996-ac43-60488cf187e4",
   "metadata": {},
   "outputs": [],
   "source": [
    "#add year column to table\n",
    "pd.options.mode.chained_assignment = None  # default='warn'\n",
    "course_df3 = course_df2.copy()\n",
    "def code2year(code):\n",
    "    ''' returns the academic year corresponding to a code'''\n",
    "    code=str(code)\n",
    "    year = int(\"20\"+code[1:-1])\n",
    "    if code[-1]!='3':\n",
    "        year = year -1\n",
    "    return year\n",
    "course_df3['year'] = course_df3['code'].apply(code2year)\n",
    "course_df3"
   ]
  },
  {
   "cell_type": "markdown",
   "id": "d9bab979-e221-4a41-ab59-4273495d80ca",
   "metadata": {},
   "source": [
    "Pivot Table"
   ]
  },
  {
   "cell_type": "code",
   "execution_count": null,
   "id": "8419c50f-0c07-43ac-94d3-a12525211ed3",
   "metadata": {
    "tags": []
   },
   "outputs": [],
   "source": [
    "#by year and enrollment per subject\n",
    "inst_pt = pd.pivot_table(course_df3, values='enr', index=[\"term\"], columns=[\"subj\"])\n",
    "inst_pt"
   ]
  },
  {
   "cell_type": "markdown",
   "id": "d0abf74c-b7b2-49c6-80b2-43b35b1c3384",
   "metadata": {},
   "source": [
    "Group By feature"
   ]
  },
  {
   "cell_type": "code",
   "execution_count": null,
   "id": "2f3da2a5-d170-4afc-8197-d274d1fdfb25",
   "metadata": {
    "tags": []
   },
   "outputs": [],
   "source": [
    "#groupby subject then instructors\n",
    "#this table show the professor in each department that taught\n",
    "#the most students within this timeframe (2018-2021)\n",
    "fac = course_df2.groupby(['subj','inst'],as_index=False)['enr'].agg([sum])\n",
    "fac = fac.loc[fac.groupby('subj')['sum'].idxmax()]\n",
    "fac = fac.sort_values(ascending=False, by='sum')\n",
    "fac.head(15)"
   ]
  },
  {
   "cell_type": "code",
   "execution_count": null,
   "id": "0c115e13-b0ce-465f-90ae-b290afc9797f",
   "metadata": {
    "tags": []
   },
   "outputs": [],
   "source": [
    "#This table shows the instructors who taught the most student, regardless of department\n",
    "#groupby subject then instructors showing the maximum number of students\n",
    "#taught by them within this timeframe (2018-2021)\n",
    "max_enr = course_df2.groupby(['subj','inst'])['enr'].agg([sum])\n",
    "max_enr = max_enr.sort_values(ascending=False, by='sum')\n",
    "max_enr.head(15)\n",
    "#The top 3 most popular instructors taught Chem classes"
   ]
  },
  {
   "cell_type": "markdown",
   "id": "613a9eb9-1fef-480b-bedc-83dd4566aaed",
   "metadata": {},
   "source": [
    "# Discussion and Analysis\n",
    "From the simple plot of course numbers and enrollment, I saw a strong negative correlation. The lower the course number, the higher the enrollment of students. This is probably because low course numbers are given to instroductory courses. There are some spikes around 100 level courses, and these are probably core courses for majors, and the 350 fluctuation is probably graduate-level classes.\n",
    "\n",
    "The pivot table shows that not all subjects (particularly the cross-listed courses) have enrollment for every period. Summer courses also have lower enrollment.\n",
    "\n",
    "The GroupBy tables show cummulative numbers of students taught since the Fall of 2018 (when I started Brandeis) by a given professor. The first table shows the most popular (by students taught) professor for each subject. Chemistry professors by far have the most students, followed by legal studies, biology, and computer science. Chem professors are even the top three most popular professors. This may also indicate that these departments have the largest class sizes."
   ]
  }
 ],
 "metadata": {
  "kernelspec": {
   "display_name": "Python 3 (ipykernel)",
   "language": "python",
   "name": "python3"
  },
  "language_info": {
   "codemirror_mode": {
    "name": "ipython",
    "version": 3
   },
   "file_extension": ".py",
   "mimetype": "text/x-python",
   "name": "python",
   "nbconvert_exporter": "python",
   "pygments_lexer": "ipython3",
   "version": "3.8.8"
  }
 },
 "nbformat": 4,
 "nbformat_minor": 5
}
